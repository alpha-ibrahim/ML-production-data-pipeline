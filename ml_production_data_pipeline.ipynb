{
 "cells": [
  {
   "cell_type": "markdown",
   "id": "b6677ec0",
   "metadata": {},
   "source": [
    "# TFX Tutorial: Building an End-to-End Data Pipeline for Machine Learning in Production"
   ]
  },
  {
   "cell_type": "markdown",
   "id": "98e82834",
   "metadata": {},
   "source": [
    "## Introduction"
   ]
  },
  {
   "cell_type": "markdown",
   "id": "ec42562f",
   "metadata": {},
   "source": [
    "Data pipelines are a crucial component of machine learning systems in production. They allow us to efficiently ingest, process, and transform large amounts of data to train and serve machine learning models. However, building a data pipeline that is both robust and scalable can be a challenging task. This is where TensorFlow Extended (TFX) comes in. TFX is an end-to-end platform for building machine learning pipelines that integrates seamlessly with TensorFlow, Google's popular machine learning framework.\n",
    "\n",
    "In this blog post, we will explore how to build a data pipeline for a machine learning model in production using TFX. Specifically, we will focus on performing data ingestion, validation, and transformation using TFX. We will start by discussing feature selection and its importance in building a machine learning model. Then, we will move on to ingesting the dataset and generating statistics of the dataset using TFX's Data Validation (TFDV) library. Next, we will create a schema for the dataset using TFX's Schema library, and then create separate schema environments for training and serving the model using TFX's Transform library. We will also discuss how to visualize dataset anomalies using TFDV's visualization tools. Finally, we will cover how to preprocess, transform, and engineer features using TFX's Transform library and track the provenance of the data pipeline using TFX's ML Metadata library.\n",
    "\n",
    "By the end of this blog post, you should have a good understanding of how to build a robust and scalable data pipeline for a machine learning model in production using TFX. Let's get started!"
   ]
  },
  {
   "cell_type": "markdown",
   "id": "b8c0503e",
   "metadata": {},
   "source": [
    "## Packages import/installation"
   ]
  },
  {
   "cell_type": "markdown",
   "id": "a9e11f9a",
   "metadata": {},
   "source": [
    "To build the data pipeline using TensorFlow Extended (TFX), we will need to install and import the following packages:\n",
    "\n",
    "- **[TensorFlow](https://www.tensorflow.org/):** TensorFlow is an open-source machine learning library developed by Google that is used to build and train machine learning models.\n",
    "\n",
    "- **[TensorFlow Extended (TFX)](https://www.tensorflow.org/tfx):** TFX is an end-to-end platform for deploying and managing machine learning pipelines, based on TensorFlow. It provides a suite of pre-built components for data ingestion, validation, transformation, and more.\n",
    "\n",
    "- **[TensorFlow Data Validation (TFDV)](https://www.tensorflow.org/tfx/data_validation/install):** TFDV is a package that provides tools for exploring and validating machine learning data. It can be used to generate descriptive statistics of the dataset, infer a schema based on domain knowledge, and detect anomalies and drift in the data.\n",
    "\n",
    "If you do not have these packages installed, you can install them by running the following command in your terminal:\n",
    "\n",
    "```\n",
    "pip install tensorflow tensorflow-data-validation tfx\n",
    "```\n",
    "\n",
    "Once you have installed these packages, you can import them in your Python code using the `import` statement."
   ]
  },
  {
   "cell_type": "code",
   "execution_count": 6,
   "id": "57e6ade8",
   "metadata": {},
   "outputs": [
    {
     "name": "stdout",
     "output_type": "stream",
     "text": [
      "TensorFlow version: 2.11.1\n",
      "TFX version: 1.12.0\n",
      "TensorFlow Data Validation version: 1.12.0\n",
      "TensorFlow Transform version: 1.12.0\n"
     ]
    }
   ],
   "source": [
    "# grader-required-cell\n",
    "\n",
    "import tensorflow as tf\n",
    "from tfx import v1 as tfx\n",
    "\n",
    "# TFX libraries\n",
    "import tensorflow_data_validation as tfdv\n",
    "import tensorflow_transform as tft\n",
    "from tfx.orchestration.experimental.interactive.interactive_context import InteractiveContext\n",
    "\n",
    "# For performing feature selection\n",
    "from sklearn.feature_selection import SelectKBest, f_classif\n",
    "\n",
    "# For feature visualization\n",
    "import matplotlib.pyplot as plt \n",
    "import seaborn as sns\n",
    "\n",
    "# Utilities\n",
    "from tensorflow.python.lib.io import file_io\n",
    "from tensorflow_metadata.proto.v0 import schema_pb2\n",
    "from google.protobuf.json_format import MessageToDict\n",
    "from  tfx.proto import example_gen_pb2\n",
    "from tfx.types import standard_artifacts\n",
    "from tensorflow_transform.tf_metadata import dataset_metadata, schema_utils\n",
    "import tensorflow_transform.beam as tft_beam\n",
    "import os\n",
    "import pprint\n",
    "import tempfile\n",
    "import pandas as pd\n",
    "\n",
    "# To ignore warnings from TF\n",
    "tf.get_logger().setLevel('ERROR')\n",
    "\n",
    "# For formatting print statements\n",
    "pp = pprint.PrettyPrinter()\n",
    "\n",
    "# Display versions of TF and TFX related packages\n",
    "print('TensorFlow version: {}'.format(tf.__version__))\n",
    "print('TFX version: {}'.format(tfx.__version__))\n",
    "print('TensorFlow Data Validation version: {}'.format(tfdv.__version__))\n",
    "print('TensorFlow Transform version: {}'.format(tft.__version__))"
   ]
  },
  {
   "cell_type": "code",
   "execution_count": 3,
   "id": "144dd2e9",
   "metadata": {},
   "outputs": [],
   "source": []
  }
 ],
 "metadata": {
  "kernelspec": {
   "display_name": "Python 3 (ipykernel)",
   "language": "python",
   "name": "python3"
  },
  "language_info": {
   "codemirror_mode": {
    "name": "ipython",
    "version": 3
   },
   "file_extension": ".py",
   "mimetype": "text/x-python",
   "name": "python",
   "nbconvert_exporter": "python",
   "pygments_lexer": "ipython3",
   "version": "3.9.13"
  }
 },
 "nbformat": 4,
 "nbformat_minor": 5
}
